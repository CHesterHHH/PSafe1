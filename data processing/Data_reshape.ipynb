{
 "cells": [
  {
   "cell_type": "code",
   "execution_count": 21,
   "id": "59c810da",
   "metadata": {},
   "outputs": [],
   "source": [
    "import csv\n",
    "import json\n",
    "import os"
   ]
  },
  {
   "cell_type": "code",
   "execution_count": 31,
   "id": "bb83e2df",
   "metadata": {},
   "outputs": [],
   "source": [
    "import csv\n",
    "import json\n",
    "import os\n",
    "\n",
    "csvfile = open('Fatal_Crashes.csv','r')\n",
    "\n",
    "jsonfile = open('Fatal_crashes.json','w')\n",
    "\n",
    "fieldnames = (   \"X\" ,\n",
    "            \"Y\" ,\n",
    "            \"ID\" ,\n",
    "            \"ACCIDENT_N\",\n",
    "            \"ACCIDENT_D\",\n",
    "            \"ACC_TIME\" ,\n",
    "            \"NO_VEHICLE\" ,\n",
    "            \"ACCIDENT_T\" ,\n",
    "            \"ACC_T_DESC\",\n",
    "            \"ABS_CODE\" ,\n",
    "            \"PERSON_ID\" ,\n",
    "            \"AGE\" ,\n",
    "            \"RD_USER_T\" ,\n",
    "            \"RD_U_DESC\" ,\n",
    "            \"SEX\" ,\n",
    "            \"LOCATION_D\" ,\n",
    "            \"NODE_ID\" ,\n",
    "            \"LOCATION_T\" ,\n",
    "            \"NODE_TYPE\" ,\n",
    "            \"N_TYPE_DES\" ,\n",
    "            \"ROAD_ROUTE\" ,\n",
    "            \"RD_NAME_1\",\n",
    "            \"RD_TYPE_1\" ,\n",
    "            \"RD_NAME_2\" ,\n",
    "            \"RD_TYPE_2\" ,\n",
    "            \"DEC_RD_DES\" ,\n",
    "            \"LGA_NAME\" ,\n",
    "            \"REGION_NAM\" ,\n",
    "            \"STAT_DIV_N\" ,\n",
    "            \"AMG_X\" ,\n",
    "            \"AMG_Y\" )\n",
    "reader = csv.DictReader(csvfile, fieldnames)\n",
    "for row in reader:\n",
    "    json.dump(row, jsonfile)\n",
    "    jsonfile.write('\\n')\n"
   ]
  },
  {
   "cell_type": "code",
   "execution_count": 24,
   "id": "598d9583",
   "metadata": {},
   "outputs": [
    {
     "data": {
      "text/plain": [
       "_io.TextIOWrapper"
      ]
     },
     "execution_count": 24,
     "metadata": {},
     "output_type": "execute_result"
    }
   ],
   "source": [
    "type(csvfile)"
   ]
  },
  {
   "cell_type": "code",
   "execution_count": 2,
   "id": "4db3591c",
   "metadata": {},
   "outputs": [],
   "source": [
    "content = [\"X\" ,\n",
    "\"Y\" ,\n",
    "\"ID\" ,\n",
    "\"ACCIDENT_N\",\n",
    "\"ACCIDENT_D\",\n",
    "\"ACC_TIME\" ,\n",
    "\"NO_VEHICLE\" ,\n",
    "\"ACCIDENT_T\" ,\n",
    "\"ACC_T_DESC\",\n",
    "\"ABS_CODE\" ,\n",
    "\"PERSON_ID\" ,\n",
    "\"AGE\" ,\n",
    "\"RD_USER_T\" ,\n",
    "\"RD_U_DESC\" ,\n",
    "\"SEX\" ,\n",
    "\"LOCATION_D\" ,\n",
    "\"NODE_ID\" ,\n",
    "\"LOCATION_T\" ,\n",
    "\"NODE_TYPE\" ,\n",
    "\"N_TYPE_DES\" ,\n",
    "\"ROAD_ROUTE\" ,\n",
    "\"RD_NAME_1\",\n",
    "\"RD_TYPE_1\" ,\n",
    "\"RD_NAME_2\" ,\n",
    "\"RD_TYPE_2\" ,\n",
    "\"DEC_RD_DES\" ,\n",
    "\"LGA_NAME\" ,\n",
    "\"REGION_NAM\" ,\n",
    "\"STAT_DIV_N\" ,\n",
    "\"AMG_X\" ,\n",
    "\"AMG_Y\" ]"
   ]
  },
  {
   "cell_type": "code",
   "execution_count": 7,
   "id": "23eb35f7",
   "metadata": {},
   "outputs": [
    {
     "name": "stdout",
     "output_type": "stream",
     "text": [
      "X\n",
      "Y\n",
      "ID\n",
      "ACCIDENT_N\n",
      "ACCIDENT_D\n",
      "ACC_TIME\n",
      "NO_VEHICLE\n",
      "ACCIDENT_T\n",
      "ACC_T_DESC\n",
      "ABS_CODE\n",
      "PERSON_ID\n",
      "AGE\n",
      "RD_USER_T\n",
      "RD_U_DESC\n",
      "SEX\n",
      "LOCATION_D\n",
      "NODE_ID\n",
      "LOCATION_T\n",
      "NODE_TYPE\n",
      "N_TYPE_DES\n",
      "ROAD_ROUTE\n",
      "RD_NAME_1\n",
      "RD_TYPE_1\n",
      "RD_NAME_2\n",
      "RD_TYPE_2\n",
      "DEC_RD_DES\n",
      "LGA_NAME\n",
      "REGION_NAM\n",
      "STAT_DIV_N\n",
      "AMG_X\n",
      "AMG_Y\n"
     ]
    }
   ],
   "source": [
    "import re\n",
    "for i in content:\n",
    "    print(i)"
   ]
  },
  {
   "cell_type": "code",
   "execution_count": null,
   "id": "95a9eb5c",
   "metadata": {},
   "outputs": [],
   "source": []
  }
 ],
 "metadata": {
  "kernelspec": {
   "display_name": "Python 3",
   "language": "python",
   "name": "python3"
  },
  "language_info": {
   "codemirror_mode": {
    "name": "ipython",
    "version": 3
   },
   "file_extension": ".py",
   "mimetype": "text/x-python",
   "name": "python",
   "nbconvert_exporter": "python",
   "pygments_lexer": "ipython3",
   "version": "3.7.9"
  }
 },
 "nbformat": 4,
 "nbformat_minor": 5
}
